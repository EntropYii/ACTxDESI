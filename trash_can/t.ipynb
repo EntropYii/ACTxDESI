{
 "cells": [
  {
   "cell_type": "code",
   "execution_count": null,
   "metadata": {},
   "outputs": [],
   "source": [
    "\n",
    "import argparse\n",
    "import numpy as np\n",
    "import pandas as pd\n",
    "import h5py\n",
    "from astropy.io import fits\n",
    "import pixell \n",
    "from pixell import enmap\n",
    "import os\n",
    "import matplotlib.pyplot as plt\n",
    "import pickle\n",
    "\n",
    "\n",
    "def load_config(config_file=\"config.txt\"):\n",
    "    config = {}\n",
    "    with open(config_file, \"r\") as file:\n",
    "        for line in file:\n",
    "            # Skip empty lines and comments\n",
    "            if line.strip() and not line.startswith(\"#\"):\n",
    "                # Ensure the line contains an '=' character\n",
    "                if \"=\" in line:\n",
    "                    key, value = line.strip().split(\"=\", 1)\n",
    "                    # Handle list parsing\n",
    "                    if \",\" in value:\n",
    "                        config[key.strip()] = [item.strip() for item in value.split(\",\")]\n",
    "                    else:\n",
    "                        config[key.strip()] = value.strip()\n",
    "                else:\n",
    "                    print(f\"Skipping malformed line: {line.strip()}\")\n",
    "    return config\n",
    "\n",
    "# Load configuration\n",
    "config = load_config()"
   ]
  }
 ],
 "metadata": {
  "language_info": {
   "name": "python"
  }
 },
 "nbformat": 4,
 "nbformat_minor": 2
}
